{
 "cells": [
  {
   "cell_type": "code",
   "execution_count": 12,
   "id": "b4f12003",
   "metadata": {},
   "outputs": [
    {
     "name": "stderr",
     "output_type": "stream",
     "text": [
      "No model was supplied, defaulted to distilbert-base-cased-distilled-squad and revision 626af31 (https://huggingface.co/distilbert-base-cased-distilled-squad).\n",
      "Using a pipeline without specifying a model name and revision in production is not recommended.\n"
     ]
    },
    {
     "name": "stdout",
     "output_type": "stream",
     "text": [
      "Possible solution: Try restarting your router and checking your connection settings.\n"
     ]
    }
   ],
   "source": [
    "import json\n",
    "from transformers import pipeline\n",
    "\n",
    "# Load knowledge base\n",
    "with open('troubleshooting_knowledge_base.json', 'r') as f:\n",
    "    knowledge_base = json.load(f)\n",
    "\n",
    "# Initialize a simple NLP model\n",
    "nlp = pipeline('question-answering')\n",
    "\n",
    "# Get user input\n",
    "user_input = input(\"Please describe your problem: \")\n",
    "\n",
    "# Search knowledge base for a simple text-based match\n",
    "for issue, details in knowledge_base.items():\n",
    "    if details[\"symptom\"].lower() in user_input.lower():\n",
    "        print(f\"Possible solution: {details['solution']}\")\n",
    "        break\n",
    "else:\n",
    "    print(\"No matching issue found in the knowledge base.\")"
   ]
  },
  {
   "cell_type": "code",
   "execution_count": 13,
   "id": "34de49ce",
   "metadata": {},
   "outputs": [
    {
     "name": "stdout",
     "output_type": "stream",
     "text": [
      "Have you restarted your router?\n",
      "Please restart your router and check again.\n"
     ]
    }
   ],
   "source": [
    "def diagnose_network_issue():\n",
    "    print(\"Have you restarted your router?\")\n",
    "    response = input(\"Have you restarted your router? Yes/No: \").strip().lower()\n",
    "    if response == \"no\":\n",
    "        print(\"Please restart your router and check again.\")\n",
    "    else:\n",
    "        print(\"Try resetting your network settings or contacting your provider.\")\n",
    "\n",
    "# Trigger diagnostic logic if the issue is related to the network\n",
    "if \"internet\" in user_input.lower():\n",
    "    diagnose_network_issue()"
   ]
  },
  {
   "cell_type": "code",
   "execution_count": 14,
   "id": "3e5c47a6",
   "metadata": {},
   "outputs": [
    {
     "name": "stdout",
     "output_type": "stream",
     "text": [
      "Resetting network settings...\n",
      "Network settings have been reset. Please check your connection.\n"
     ]
    }
   ],
   "source": [
    "def automate_fix(issue):\n",
    "    if issue == \"slow_internet\":\n",
    "        print(\"Resetting network settings...\")\n",
    "        # Simulated network reset\n",
    "        print(\"Network settings have been reset. Please check your connection.\")\n",
    "    else:\n",
    "        print(\"Automation is not available for this issue.\")\n",
    "\n",
    "# Simulate automatic fix\n",
    "if \"internet\" in user_input.lower():\n",
    "    automate_fix(\"slow_internet\")"
   ]
  },
  {
   "cell_type": "code",
   "execution_count": 15,
   "id": "684061f0",
   "metadata": {},
   "outputs": [
    {
     "name": "stdout",
     "output_type": "stream",
     "text": [
      "Great! Your feedback has been recorded.\n"
     ]
    }
   ],
   "source": [
    "def collect_feedback():\n",
    "    feedback = input(\"Did this solution resolve your issue? (Yes/No): \").strip().lower()\n",
    "    if feedback == \"yes\":\n",
    "        print(\"Great! Your feedback has been recorded.\")\n",
    "    else:\n",
    "        print(\"We're sorry the issue persists. We'll improve our solution based on your input.\")\n",
    "\n",
    "# Collect feedback after providing a solution\n",
    "collect_feedback()"
   ]
  }
 ],
 "metadata": {
  "kernelspec": {
   "display_name": ".venv",
   "language": "python",
   "name": "python3"
  },
  "language_info": {
   "codemirror_mode": {
    "name": "ipython",
    "version": 3
   },
   "file_extension": ".py",
   "mimetype": "text/x-python",
   "name": "python",
   "nbconvert_exporter": "python",
   "pygments_lexer": "ipython3",
   "version": "3.12.7"
  }
 },
 "nbformat": 4,
 "nbformat_minor": 5
}
